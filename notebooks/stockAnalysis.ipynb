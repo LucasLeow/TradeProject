{
 "cells": [
  {
   "cell_type": "code",
   "execution_count": 2,
   "metadata": {},
   "outputs": [],
   "source": [
    "import requests"
   ]
  },
  {
   "cell_type": "code",
   "execution_count": 5,
   "metadata": {},
   "outputs": [],
   "source": [
    "with open('../creds.txt') as f:\n",
    "    key = f.readlines()\n",
    "api_key = key[0]"
   ]
  },
  {
   "cell_type": "code",
   "execution_count": 20,
   "metadata": {},
   "outputs": [],
   "source": [
    "symbol = 'COIN'\n",
    "interval = '1min' # 1min, 5min, 15min, 30min, 60min\n",
    "url = f'https://www.alphavantage.co/query?function=TIME_SERIES_INTRADAY&symbol={symbol}&interval={interval}&apikey={api_key}'\n",
    "\n",
    "r = requests.get(url)\n",
    "data = r.json()"
   ]
  },
  {
   "cell_type": "code",
   "execution_count": 21,
   "metadata": {},
   "outputs": [
    {
     "name": "stdout",
     "output_type": "stream",
     "text": [
      "dict_keys(['Meta Data', 'Time Series (1min)'])\n"
     ]
    }
   ],
   "source": [
    "print(data.keys())"
   ]
  },
  {
   "cell_type": "code",
   "execution_count": 30,
   "metadata": {},
   "outputs": [
    {
     "name": "stdout",
     "output_type": "stream",
     "text": [
      " 20:00:00 \t:\t 93.5000\n",
      " 19:59:00 \t:\t 93.4800\n",
      " 19:55:00 \t:\t 93.0000\n",
      " 19:54:00 \t:\t 93.0900\n",
      " 19:51:00 \t:\t 93.1000\n",
      " 19:50:00 \t:\t 93.2000\n",
      " 19:48:00 \t:\t 93.3300\n",
      " 19:47:00 \t:\t 93.3100\n",
      " 19:45:00 \t:\t 93.3600\n",
      " 19:44:00 \t:\t 93.4000\n",
      " 19:40:00 \t:\t 93.3600\n",
      " 19:37:00 \t:\t 93.3500\n",
      " 19:31:00 \t:\t 93.5000\n",
      " 19:30:00 \t:\t 93.4000\n",
      " 19:27:00 \t:\t 93.5600\n",
      " 19:26:00 \t:\t 93.4300\n",
      " 19:25:00 \t:\t 93.4000\n",
      " 19:24:00 \t:\t 93.5000\n",
      " 19:23:00 \t:\t 93.3100\n",
      " 19:22:00 \t:\t 93.1500\n",
      " 19:14:00 \t:\t 93.1300\n",
      " 19:13:00 \t:\t 93.1200\n",
      " 19:12:00 \t:\t 93.0800\n",
      " 19:07:00 \t:\t 92.7900\n",
      " 19:04:00 \t:\t 92.6700\n",
      " 18:41:00 \t:\t 92.6100\n",
      " 18:37:00 \t:\t 92.6000\n",
      " 18:36:00 \t:\t 92.8000\n",
      " 18:35:00 \t:\t 92.7500\n",
      " 18:32:00 \t:\t 92.8100\n",
      " 18:30:00 \t:\t 92.8000\n",
      " 18:29:00 \t:\t 92.8000\n",
      " 18:26:00 \t:\t 92.8700\n",
      " 18:25:00 \t:\t 92.9100\n",
      " 18:23:00 \t:\t 92.9100\n",
      " 18:19:00 \t:\t 92.9300\n",
      " 18:18:00 \t:\t 92.9700\n",
      " 18:17:00 \t:\t 92.9700\n",
      " 18:16:00 \t:\t 92.9000\n",
      " 18:13:00 \t:\t 92.8100\n",
      " 18:11:00 \t:\t 92.8600\n",
      " 18:10:00 \t:\t 92.8500\n",
      " 18:09:00 \t:\t 92.8900\n",
      " 18:08:00 \t:\t 92.8000\n",
      " 18:06:00 \t:\t 92.8500\n",
      " 18:00:00 \t:\t 92.9000\n",
      " 17:57:00 \t:\t 92.9300\n",
      " 17:52:00 \t:\t 92.8500\n",
      " 17:51:00 \t:\t 92.8500\n",
      " 17:33:00 \t:\t 92.8200\n",
      " 17:27:00 \t:\t 92.9500\n",
      " 17:23:00 \t:\t 92.9700\n",
      " 17:18:00 \t:\t 92.9300\n",
      " 17:17:00 \t:\t 92.9600\n",
      " 17:16:00 \t:\t 92.8900\n",
      " 17:14:00 \t:\t 92.8500\n",
      " 17:13:00 \t:\t 92.7500\n",
      " 17:12:00 \t:\t 92.7500\n",
      " 17:07:00 \t:\t 92.8800\n",
      " 16:55:00 \t:\t 92.7500\n",
      " 16:52:00 \t:\t 92.8700\n",
      " 16:50:00 \t:\t 92.5400\n",
      " 16:49:00 \t:\t 92.7100\n",
      " 16:48:00 \t:\t 92.7100\n",
      " 16:47:00 \t:\t 92.7700\n",
      " 16:45:00 \t:\t 92.9400\n",
      " 16:42:00 \t:\t 92.9900\n",
      " 16:38:00 \t:\t 92.7900\n",
      " 16:36:00 \t:\t 92.5100\n",
      " 16:35:00 \t:\t 92.7500\n",
      " 16:34:00 \t:\t 92.7400\n",
      " 16:32:00 \t:\t 92.9000\n",
      " 16:31:00 \t:\t 92.8000\n",
      " 16:30:00 \t:\t 92.7900\n",
      " 16:28:00 \t:\t 92.6400\n",
      " 16:27:00 \t:\t 92.6300\n",
      " 16:26:00 \t:\t 92.6000\n",
      " 16:25:00 \t:\t 92.5000\n",
      " 16:24:00 \t:\t 92.5000\n",
      " 16:23:00 \t:\t 92.5800\n",
      " 16:22:00 \t:\t 92.4500\n",
      " 16:21:00 \t:\t 92.4500\n",
      " 16:20:00 \t:\t 92.4400\n",
      " 16:19:00 \t:\t 92.4800\n",
      " 16:17:00 \t:\t 92.4900\n",
      " 16:13:00 \t:\t 92.5700\n",
      " 16:12:00 \t:\t 92.4800\n",
      " 16:11:00 \t:\t 92.4700\n",
      " 16:08:00 \t:\t 92.4900\n",
      " 16:07:00 \t:\t 92.7100\n",
      " 16:06:00 \t:\t 92.5051\n",
      " 16:05:00 \t:\t 92.5001\n",
      " 16:04:00 \t:\t 92.5256\n",
      " 16:03:00 \t:\t 92.5000\n",
      " 16:02:00 \t:\t 92.8000\n",
      " 16:01:00 \t:\t 93.0500\n",
      " 16:00:00 \t:\t 93.1000\n",
      " 15:59:00 \t:\t 93.1211\n",
      " 15:58:00 \t:\t 93.1350\n",
      " 15:57:00 \t:\t 93.2350\n"
     ]
    }
   ],
   "source": [
    "for time, value in data['Time Series (1min)'].items():\n",
    "    print(time[10:],'\\t:\\t', value['1. open'])"
   ]
  },
  {
   "cell_type": "code",
   "execution_count": null,
   "metadata": {},
   "outputs": [],
   "source": []
  }
 ],
 "metadata": {
  "kernelspec": {
   "display_name": "Python 3.9.7 ('base')",
   "language": "python",
   "name": "python3"
  },
  "language_info": {
   "codemirror_mode": {
    "name": "ipython",
    "version": 3
   },
   "file_extension": ".py",
   "mimetype": "text/x-python",
   "name": "python",
   "nbconvert_exporter": "python",
   "pygments_lexer": "ipython3",
   "version": "3.9.7"
  },
  "orig_nbformat": 4,
  "vscode": {
   "interpreter": {
    "hash": "ae84f527dddc6d3829bfdd35448c0cb7a74f57078052fed85c77a1696ae1e557"
   }
  }
 },
 "nbformat": 4,
 "nbformat_minor": 2
}
